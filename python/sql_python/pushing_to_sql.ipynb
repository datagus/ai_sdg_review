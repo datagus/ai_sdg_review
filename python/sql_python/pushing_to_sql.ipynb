{
 "cells": [
  {
   "cell_type": "markdown",
   "id": "76d1453d-c267-436f-8a6c-02746f96ed9f",
   "metadata": {},
   "source": [
    "# Pushing excel tables into SQL"
   ]
  },
  {
   "cell_type": "markdown",
   "id": "6d17a079-90c3-4692-8ee8-744b992ba930",
   "metadata": {},
   "source": [
    "This notebook is aimed to retrieve the scattered data from different sheets contained in a google spreadshee"
   ]
  },
  {
   "cell_type": "code",
   "execution_count": null,
   "id": "9cd69166-8805-4ab0-93ef-fa86de2249b5",
   "metadata": {},
   "outputs": [],
   "source": [
    "import pandas as pd\n",
    "import json\n",
    "from pybliometrics.scopus import AbstractRetrieval, AuthorRetrieval, AffiliationRetrieval\n",
    "import warnings\n",
    "import datetime\n",
    "import sqlalchemy"
   ]
  },
  {
   "cell_type": "code",
   "execution_count": null,
   "id": "a2bf7c05-059e-4731-84bd-57517ec660bd",
   "metadata": {},
   "outputs": [],
   "source": [
    "## Load configuration from json file \n",
    "# Run this code only if the excel file is in googlespreadsheets\n",
    "con_file = open(\"config.json\")\n",
    "config = json.load(con_file)\n",
    "con_file.close()"
   ]
  },
  {
   "cell_type": "markdown",
   "id": "7116c679-361d-4deb-b103-8700d8abf411",
   "metadata": {},
   "source": [
    "## Initializing SQL"
   ]
  },
  {
   "cell_type": "code",
   "execution_count": null,
   "id": "7ca09614-e6d3-44b5-a677-4afb87df5578",
   "metadata": {},
   "outputs": [],
   "source": [
    "schema = config[\"schema\"]\n",
    "host = config[\"host\"]\n",
    "user = config[\"user\"]\n",
    "password = config[\"password\"]\n",
    "port = config[\"port\"]\n",
    "\n",
    "connection_string = f'mysql+pymysql://{user}:{password}@{host}:{port}/{schema}'\n",
    "connection_string"
   ]
  },
  {
   "cell_type": "markdown",
   "id": "b16f919f-5779-494d-af3a-c4f401b0c90e",
   "metadata": {},
   "source": [
    "## Importing and functions"
   ]
  },
  {
   "cell_type": "code",
   "execution_count": null,
   "id": "62241ec9-ad70-4e80-8ea0-5480d3ec22d6",
   "metadata": {
    "scrolled": true
   },
   "outputs": [],
   "source": [
    "#importing and opening excel file from a google spreadhsheets. Run this only if you are using google spreadsheets\n",
    "url_id = config['url_id']\n",
    "url_base = \"https://docs.google.com/spreadsheets/d/\"\n",
    "url_e = \"export/format=xlsx\"\n",
    "url_params = url_base+url_id+url_e\n",
    "\n",
    "def table_import(url_params, tab_name):\n",
    "    file = pd.ExcelFile(url_params)  \n",
    "    with pd.ExcelFile(file) as xls:  \n",
    "        df = pd.read_excel(xls, tab_name, header=0)\n",
    "    #ignoring warnings\n",
    "    warnings.filterwarnings(\"ignore\", category=DeprecationWarning, message=\".*utcnow.*\")\n",
    "    now = datetime.datetime.utcnow()\n",
    "    return df\n",
    "\n",
    "def table_import2(xls):\n",
    "    with pd.ExcelFile(file) as xls:  \n",
    "        df = pd.read_excel(xls, tab_name, header=0)\n",
    "    return df"
   ]
  },
  {
   "cell_type": "code",
   "execution_count": null,
   "id": "d4b54d27-3bc6-4c2d-9882-22d99cd7cf95",
   "metadata": {},
   "outputs": [],
   "source": [
    "# Pathto the Excel file if you are not using google spreadhseets\n",
    "file_path = \"database/excel_tables/master_table_copy.xlsx\"  # Replace with your actual file path\n",
    "\n",
    "# Load the Excel file\n",
    "file = pd.ExcelFile(file_path)"
   ]
  },
  {
   "cell_type": "markdown",
   "id": "a91c4cfe-b00d-4bd5-a950-2146e460ccd1",
   "metadata": {},
   "source": [
    "The function below is to change the arragement and format of the different tables"
   ]
  },
  {
   "cell_type": "code",
   "execution_count": null,
   "id": "b4465223-80a3-467c-a404-2a0ea3d0eaec",
   "metadata": {},
   "outputs": [],
   "source": [
    "def df_format(df):\n",
    "\n",
    "    #removing useless columns for analysis\n",
    "    columns_to_drop = ['AI (yes/no)', 'Sustainability (yes/no)']\n",
    "    df = df.drop(columns=columns_to_drop)\n",
    "\n",
    "    # renaming the columns\n",
    "    columns_to_rename = {'Authors': 'authors',\n",
    "                         'EID': 'eid',\n",
    "                         'Title': 'title',\n",
    "                         'Year': 'year_pub',\n",
    "                         'SDG': 'sdg',\n",
    "                         \"Abstract\": \"abstract\",\n",
    "                         'Source title': 'journal',\n",
    "                         'Cited by': 'cited_by',\n",
    "                         'core topic': 'core_topic',\n",
    "                         'DOI': 'doi',\n",
    "                         'role of AI': 'role_of_AI',\n",
    "                         'AI (yes/no)': 'is_AI?',\n",
    "                         'sustainability definition': 'sustainability_definition',\n",
    "                         'Sustainability (yes/no)': 'is_sustainability?',\n",
    "                         'Method (1) vs. study object (2)': 'AI_scope',\n",
    "                         'Means (1) vs. end (2)': 'means_vs_ends',\n",
    "                         'AI as buzzword? (0/1)': 'AI_as_buzzword',\n",
    "                         'Sus_lvl': 'sustainability_conceptualization',\n",
    "                         'empirical/conceptual/review': 'article_type',\n",
    "                         'spatial scale': 'spatial_scale',\n",
    "                         'snapshot in time vs. longitudinal study': 'temporal_scope',\n",
    "                         'temporal scale (past, present, future)': 'temporal_scale',\n",
    "                         'qualitative/quantitative/mixed methods': 'methodology',\n",
    "                         'location of the study (country)': 'country_study',\n",
    "                         'dataset used': 'dataset_used',\n",
    "                         'first_author_country': 'country_author',\n",
    "                         'policy recommendations (1/0)': 'policy_recommendations'\n",
    "                        }\n",
    "    df = df.rename(columns= columns_to_rename)\n",
    "\n",
    "    df[\"sustainability_conceptualization\"] = df[\"sustainability_conceptualization\"].str.lower()\n",
    "    df[\"sustainability_conceptualization\"] = df[\"sustainability_conceptualization\"].str.lower()\n",
    "    df[\"sustainability_conceptualization\"] = df[\"sustainability_conceptualization\"].str.strip()\n",
    "    \n",
    "    df[\"article_type\"] = df[\"article_type\"].str.lower()\n",
    "    df[\"article_type\"] = df[\"article_type\"].str.lower()\n",
    "    df[\"article_type\"] = df[\"article_type\"].str.strip()\n",
    "\n",
    "    return df"
   ]
  },
  {
   "cell_type": "markdown",
   "id": "0738cf4c-f904-4ecb-90b5-500efe117d4d",
   "metadata": {},
   "source": [
    "## Inspection (Importing final table)"
   ]
  },
  {
   "cell_type": "code",
   "execution_count": null,
   "id": "127b66a5-950c-4d8f-adc0-a667373f6caa",
   "metadata": {},
   "outputs": [],
   "source": [
    "df_raw = table_import(url_params, \"final_table\") #only use if you are using gspreadsheets\n",
    "#or\n",
    "#df_raw = table_import2(file)\n",
    "df_raw.info()"
   ]
  },
  {
   "cell_type": "code",
   "execution_count": null,
   "id": "06aa92f4-1072-4d0a-90c9-680c73c51d6e",
   "metadata": {},
   "outputs": [],
   "source": [
    "#applying the function format\n",
    "df = df_format(df_raw)\n",
    "df.info()"
   ]
  },
  {
   "cell_type": "code",
   "execution_count": null,
   "id": "09812284-81a4-4340-8ac8-4fe92b148f2c",
   "metadata": {},
   "outputs": [],
   "source": [
    "#veryfing that the three types of article exist\n",
    "df.loc[(df[\"article_type\"]==\"empirical\"), \"methodology\"].unique()"
   ]
  },
  {
   "cell_type": "code",
   "execution_count": null,
   "id": "fc3bd4e7-5c20-4b29-addc-c81e8e25ce9a",
   "metadata": {},
   "outputs": [],
   "source": [
    "#checking how many empirical papers are\n",
    "df.loc[(df[\"article_type\"]==\"empirical\"),].count()"
   ]
  },
  {
   "cell_type": "markdown",
   "id": "ba4a3196-7039-4dee-91d8-8fa618f13e0d",
   "metadata": {},
   "source": [
    "## <span style=\"background-color:green\">Articles dataframe</span> "
   ]
  },
  {
   "cell_type": "markdown",
   "id": "aa79f1a5-81c8-43b3-9fe8-1d312264bc27",
   "metadata": {},
   "source": [
    "Now, the next step is to create a table or dataframe with the articles metadata"
   ]
  },
  {
   "cell_type": "markdown",
   "id": "2714e32b-5a01-403d-a9c5-a6ec642d4ae9",
   "metadata": {},
   "source": [
    "### Creating dataframe"
   ]
  },
  {
   "cell_type": "code",
   "execution_count": null,
   "id": "ee073db2-ca50-452e-9665-d4ae3f1495d4",
   "metadata": {},
   "outputs": [],
   "source": [
    "metadata_df = df.loc[:,[\"eid\", \"title\", \"authors\", \"year_pub\",\n",
    "                        \"sdg\", \"journal\", \"cited_by\", \"doi\"]]\n",
    "\n",
    "\n",
    "metadata_df['sdg'] = metadata_df['sdg'].astype('str')\n",
    "\n",
    "metadata_df.info()"
   ]
  },
  {
   "cell_type": "markdown",
   "id": "d78ca368-0626-451e-97c8-1a7bf8af7d57",
   "metadata": {},
   "source": [
    "### Pushing it to SQL"
   ]
  },
  {
   "cell_type": "code",
   "execution_count": null,
   "id": "ed53155e-a35e-4d78-a35b-eef1a71c7844",
   "metadata": {
    "scrolled": true
   },
   "outputs": [],
   "source": [
    "metadata_df.to_sql('articles',\n",
    "                  if_exists='append',\n",
    "                  con=connection_string,\n",
    "                  index=False)"
   ]
  },
  {
   "cell_type": "markdown",
   "id": "84973286-bfda-472e-b92b-f0699a1df991",
   "metadata": {
    "jp-MarkdownHeadingCollapsed": true
   },
   "source": [
    "## <span style=\"background-color:purple\">Empirical data dataframe</span> "
   ]
  },
  {
   "cell_type": "markdown",
   "id": "e92ac295-1f40-4bc3-90cb-af7fced6acf3",
   "metadata": {},
   "source": [
    "Because the empirical articles were coded different and contain specific columns, a specific dataframe was created"
   ]
  },
  {
   "cell_type": "code",
   "execution_count": null,
   "id": "78a13192-4480-4cc7-9569-8481d998d03e",
   "metadata": {},
   "outputs": [],
   "source": [
    "columns_to_boolean = [\"AI_as_buzzword\", \"policy_recommendations\"]\n",
    "df[columns_to_boolean] = df[columns_to_boolean].astype('bool')\n",
    "\n",
    "empirical_df = df.loc[:, [\"eid\", \"abstract\", \"AI_scope\", \"AI_as_buzzword\", \"core_topic\",\n",
    "                          \"means_vs_ends\", \"sustainability_definition\", \"spatial_scale\",\n",
    "                          \"temporal_scope\", \"temporal_scale\", \"methodology\", \"country_study\",\n",
    "                           \"dataset_used\", \"country_author\", \"policy_recommendations\"]]\n",
    "\n",
    "empirical_df.info()"
   ]
  },
  {
   "cell_type": "code",
   "execution_count": null,
   "id": "39d341c8-9d8b-41da-8e19-c2b196b6fb13",
   "metadata": {},
   "outputs": [],
   "source": [
    "empirical_df.to_sql(\"empirical_data\",\n",
    "                  if_exists='append',\n",
    "                  con=connection_string,\n",
    "                  index=False)"
   ]
  },
  {
   "cell_type": "markdown",
   "id": "46685746-340f-47b0-a866-d7743ee5da8e",
   "metadata": {
    "jp-MarkdownHeadingCollapsed": true
   },
   "source": [
    "## <span style=\"background-color:blue\">Type of article and suslvl dataframe</span> "
   ]
  },
  {
   "cell_type": "code",
   "execution_count": null,
   "id": "c078c556-4ab1-4152-baa7-85540bf4e3a0",
   "metadata": {},
   "outputs": [],
   "source": [
    "type_article = df[[\"eid\",\"article_type\"]]\n",
    "type_article.to_sql('type_of_article',\n",
    "                  if_exists='append',\n",
    "                  con=connection_string,\n",
    "                  index=False)"
   ]
  },
  {
   "cell_type": "code",
   "execution_count": null,
   "id": "7197be07-653e-4442-bc20-46441ab72e3b",
   "metadata": {},
   "outputs": [],
   "source": [
    "suslvl_article = df[[\"eid\",\"sustainability_conceptualization\"]]\n",
    "suslvl_article.to_sql('sus_lvl',\n",
    "                  if_exists='append',\n",
    "                  con=connection_string,\n",
    "                  index=False)"
   ]
  },
  {
   "cell_type": "markdown",
   "id": "c20980bf-3839-4b34-b7ab-b4c0c1b054a2",
   "metadata": {
    "jp-MarkdownHeadingCollapsed": true
   },
   "source": [
    "## <span style=\"background-color:red\">Algorithms-articles dataframe</span>"
   ]
  },
  {
   "cell_type": "markdown",
   "id": "a17bd983-f707-424a-b339-bb3033e96cc0",
   "metadata": {},
   "source": [
    "### Function to separate values in the same cell"
   ]
  },
  {
   "cell_type": "code",
   "execution_count": null,
   "id": "6681d8b5-a673-40c0-94d4-0d1430da608e",
   "metadata": {},
   "outputs": [],
   "source": [
    "def separating(df, old_column, new_column):\n",
    "    df[new_column] = df[old_column].str.split(';')\n",
    "    df = df.explode(new_column)\n",
    "    df = df.drop(columns=old_column).reset_index(drop=True)\n",
    "    df[new_column] = df[new_column].str.strip()\n",
    "    df[new_column] = df[new_column].str.lower()\n",
    "    return df"
   ]
  },
  {
   "cell_type": "markdown",
   "id": "9984ccb8-9fb4-446c-8c8c-975794740f64",
   "metadata": {},
   "source": [
    "### Creating dataframe"
   ]
  },
  {
   "cell_type": "code",
   "execution_count": null,
   "id": "6ff5dec4-2ca5-43cc-88d2-0e811e1e643b",
   "metadata": {},
   "outputs": [],
   "source": [
    "# aral means ar(ticle)al(gorithm)\n",
    "aral_df = df.loc[:, [\"eid\", \"algorithms\"]]\n",
    "aral_df = separating(aral_df, \"algorithms\", \"algorithms_used\")\n",
    "aral_df = aral_df.sort_values(by=\"algorithms_used\", ascending=True).reset_index(drop=True)\n",
    "aral_df = aral_df.rename(columns= {\"algorithms_used\": \"algorithms\"})\n",
    "aral_df.info()"
   ]
  },
  {
   "cell_type": "markdown",
   "id": "66ccc537-cce8-415c-9975-d3af06933e2b",
   "metadata": {},
   "source": [
    "### Pushing it to SQL"
   ]
  },
  {
   "cell_type": "code",
   "execution_count": null,
   "id": "3d646913-3c0b-45d9-8772-de7a7cdd697f",
   "metadata": {},
   "outputs": [],
   "source": [
    "aral_df.to_sql('articles_algorithms',\n",
    "                if_exists='append',\n",
    "                con=connection_string,\n",
    "                index=False)"
   ]
  },
  {
   "cell_type": "markdown",
   "id": "713b42b8-da8e-4832-aaf3-c0fb3107e2cd",
   "metadata": {
    "jp-MarkdownHeadingCollapsed": true
   },
   "source": [
    "## <span style=\"background-color:brown\">Algorithms, type of AI and tasks dataframes</span> "
   ]
  },
  {
   "cell_type": "markdown",
   "id": "1c78f802-1e4e-472c-a4da-28fb6cbff153",
   "metadata": {
    "collapsed": true,
    "jupyter": {
     "outputs_hidden": true
    }
   },
   "source": [
    "### Importing sheet from drive"
   ]
  },
  {
   "cell_type": "code",
   "execution_count": null,
   "id": "fd363d6a-1064-4ce5-842f-fa96f3cfd6e3",
   "metadata": {},
   "outputs": [],
   "source": [
    "names_df = table_import(url_params, \"algorithms abbreviations\")\n",
    "names_df[\"Algorithm name\"] = names_df[\"Algorithm name\"].str.lower()\n",
    "names_df[\"Abbreviations\"] = names_df[\"Abbreviations\"].str.lower()\n",
    "names_df[\"Abbreviations\"] = names_df[\"Abbreviations\"].str.strip()\n",
    "names_df"
   ]
  },
  {
   "cell_type": "markdown",
   "id": "bf11541c-1e81-4e40-9701-03870a4a7bcf",
   "metadata": {},
   "source": [
    "### algorithms_list table"
   ]
  },
  {
   "cell_type": "code",
   "execution_count": null,
   "id": "3336f725-0511-406f-ac6f-1ce15191593f",
   "metadata": {},
   "outputs": [],
   "source": [
    "## algorithms dataframe\n",
    "algo_df = names_df.drop_duplicates(subset=\"Abbreviations\")[[\"Abbreviations\", \"Algorithm name\"]]\n",
    "\n",
    "columns_to_rename = {\"Abbreviations\": \"algorithms\",\n",
    "                     \"Algorithm name\": \"algorithm_name\"\n",
    "                    }\n",
    "algo_df = algo_df.rename(columns= columns_to_rename)\n",
    "\n",
    "algo_df.info()"
   ]
  },
  {
   "cell_type": "code",
   "execution_count": null,
   "id": "0c49004e-7295-4938-aca5-fa59704a3a0d",
   "metadata": {},
   "outputs": [],
   "source": [
    "algo_df.to_sql('algorithms_list',\n",
    "                if_exists='append',\n",
    "                con=connection_string,\n",
    "                index=False)"
   ]
  },
  {
   "cell_type": "markdown",
   "id": "893a87d2-8a3d-4b2a-bf52-4d1090304d03",
   "metadata": {},
   "source": [
    "### ai_type_list_table"
   ]
  },
  {
   "cell_type": "code",
   "execution_count": null,
   "id": "9128d522-41f8-425f-a619-ccc136772047",
   "metadata": {},
   "outputs": [],
   "source": [
    "aitype = separating(names_df, \"Type of AI\", \"ai_type\")[[\"ai_type\"]]\n",
    "aitype = aitype.drop_duplicates(subset=\"ai_type\")\n",
    "aitype = aitype.reset_index(drop=True)\n",
    "aitype"
   ]
  },
  {
   "cell_type": "code",
   "execution_count": null,
   "id": "86284248-33e5-481f-bdd6-e544b9222843",
   "metadata": {},
   "outputs": [],
   "source": [
    "aitype.to_sql('ai_type_list',\n",
    "                if_exists='append',\n",
    "                con=connection_string,\n",
    "                index=False)"
   ]
  },
  {
   "cell_type": "markdown",
   "id": "eae57123-4452-4cc2-b3d4-ace089a71352",
   "metadata": {},
   "source": [
    "### task_type_list"
   ]
  },
  {
   "cell_type": "code",
   "execution_count": null,
   "id": "bc609363-65ef-469a-bd86-1d89dbb5cd5c",
   "metadata": {},
   "outputs": [],
   "source": [
    "tasktype = separating(names_df, \"Type of task\", \"task_type\")[[\"task_type\"]]\n",
    "tasktype = tasktype.drop_duplicates(subset=\"task_type\")\n",
    "tasktype = tasktype.reset_index(drop=True)\n",
    "\n",
    "tasktype.info()"
   ]
  },
  {
   "cell_type": "code",
   "execution_count": null,
   "id": "08a77a10-c396-4ec6-af5e-2f1157b4883e",
   "metadata": {},
   "outputs": [],
   "source": [
    "tasktype.to_sql('task_type_list',\n",
    "                if_exists='append',\n",
    "                con=connection_string,\n",
    "                index=False)"
   ]
  },
  {
   "cell_type": "markdown",
   "id": "353650fd-ce0d-438d-a8bb-b25a868e9cf5",
   "metadata": {},
   "source": [
    "### algorithms_aitype"
   ]
  },
  {
   "cell_type": "code",
   "execution_count": null,
   "id": "432337ec-ab71-4b2f-81ad-25c8b1950e47",
   "metadata": {},
   "outputs": [],
   "source": [
    "algo_ai = separating(names_df, \"Type of AI\", \"ai_type\")[[\"Abbreviations\",\"ai_type\"]]\n",
    "algo_ai = algo_ai.rename(columns= {\"Abbreviations\":\"algorithms\"})\n",
    "algo_ai"
   ]
  },
  {
   "cell_type": "code",
   "execution_count": null,
   "id": "8f1d9416-66bd-460a-8f6e-09a2d536833c",
   "metadata": {},
   "outputs": [],
   "source": [
    "algo_ai.to_sql('algorithms_aitype',\n",
    "                if_exists='append',\n",
    "                con=connection_string,\n",
    "                index=False)"
   ]
  },
  {
   "cell_type": "markdown",
   "id": "578c02cc-d94e-45a2-8469-47a22703b62b",
   "metadata": {},
   "source": [
    "### algorithms_tasktype"
   ]
  },
  {
   "cell_type": "code",
   "execution_count": null,
   "id": "962ce95b-9039-42dc-b081-356954a25cfa",
   "metadata": {},
   "outputs": [],
   "source": [
    "algo_task = separating(names_df, \"Type of task\", \"task_type\")[[\"Abbreviations\",\"task_type\"]]\n",
    "algo_task = algo_task.rename(columns= {\"Abbreviations\":\"algorithms\"})\n",
    "algo_task"
   ]
  },
  {
   "cell_type": "code",
   "execution_count": null,
   "id": "0e1f8d00-d775-42b9-aa64-33926c6a517c",
   "metadata": {},
   "outputs": [],
   "source": [
    "algo_task.to_sql('algorithms_tasktype',\n",
    "                if_exists='append',\n",
    "                con=connection_string,\n",
    "                index=False)"
   ]
  },
  {
   "cell_type": "markdown",
   "id": "2b57b026-59c2-4663-b95d-333940acc8db",
   "metadata": {
    "jp-MarkdownHeadingCollapsed": true
   },
   "source": [
    "## <span style=\"background-color:turquoise\">Role of AI</span> "
   ]
  },
  {
   "cell_type": "code",
   "execution_count": null,
   "id": "a4f41e27-1c99-4b00-b784-1bd6439112ed",
   "metadata": {},
   "outputs": [],
   "source": [
    "role_ai = df[[\"eid\",\"role_of_AI\"]]\n",
    "role_ai.to_sql('role_AI',\n",
    "                  if_exists='append',\n",
    "                  con=connection_string,\n",
    "                  index=False)"
   ]
  },
  {
   "cell_type": "markdown",
   "id": "acdb7e96-f0be-482f-aa77-787849c34691",
   "metadata": {},
   "source": [
    "## <span style=\"background-color:violet\">Clusters revcon dataframe</span>"
   ]
  },
  {
   "cell_type": "code",
   "execution_count": null,
   "id": "339cd643-c811-4b1f-a4eb-353a5c806f47",
   "metadata": {},
   "outputs": [],
   "source": [
    "#importing and opening file from google spreadsheets\n",
    "groups_df = table_import(url_params, \"words_clusters_revcon\")\n",
    "groups_df['cluster_number'] = groups_df['cluster_number'].astype('str')\n",
    "groups_df.info()"
   ]
  },
  {
   "cell_type": "code",
   "execution_count": null,
   "id": "0bd5185d-f781-4c62-9a47-68c0c65085e1",
   "metadata": {},
   "outputs": [],
   "source": [
    "#merging with metadata df\n",
    "merged_df = pd.merge(metadata_df, groups_df, on='eid', how='inner')\n",
    "groups_3_df = merged_df[[\"eid\", \"words\", \"cluster_number\", \"cluster_name\", \"article_file\"]]\n",
    "groups_3_df.info()"
   ]
  },
  {
   "cell_type": "code",
   "execution_count": null,
   "id": "bf8567df-5d50-486a-ab86-9905a1e717e2",
   "metadata": {},
   "outputs": [],
   "source": [
    "groups_3_df.to_sql('clusters_revcon',\n",
    "                  if_exists='append',\n",
    "                  con=connection_string,\n",
    "                  index=False)"
   ]
  },
  {
   "cell_type": "markdown",
   "id": "906589e6-f5c2-4c05-a742-894b85a09e65",
   "metadata": {},
   "source": [
    "## <span style=\"background-color:violet\">Clusters dataframe</span>"
   ]
  },
  {
   "cell_type": "code",
   "execution_count": null,
   "id": "a12a1783-1710-4ddd-8ba1-52741dab5cf6",
   "metadata": {},
   "outputs": [],
   "source": [
    "#importing and opening file from google spreadsheets\n",
    "groups_df = table_import(url_params, \"words_clusters\")\n",
    "groups_df['cluster_number'] = groups_df['cluster_number'].astype('str')\n",
    "groups_df.info()"
   ]
  },
  {
   "cell_type": "code",
   "execution_count": null,
   "id": "98e2fc78-de7d-4bcb-b2b3-9e89e70e28c3",
   "metadata": {},
   "outputs": [],
   "source": [
    "#merging with metadata df\n",
    "merged_df = pd.merge(metadata_df, groups_df, on='eid', how='inner')\n",
    "groups_2_df = merged_df[[\"eid\", \"words\", \"cluster_number\", \"cluster_name\", \"article_file\"]]\n",
    "groups_2_df.info()"
   ]
  },
  {
   "cell_type": "code",
   "execution_count": null,
   "id": "1f618b22-c998-4543-9162-f85c2925ed6b",
   "metadata": {},
   "outputs": [],
   "source": [
    "groups_2_df.to_sql('clusters',\n",
    "                  if_exists='append',\n",
    "                  con=connection_string,\n",
    "                  index=False)"
   ]
  },
  {
   "cell_type": "markdown",
   "id": "eb6306b8-35d0-4ad4-b965-edad5ad16353",
   "metadata": {
    "jp-MarkdownHeadingCollapsed": true
   },
   "source": [
    "## <span style=\"background-color:gray\">Authors dataframe</span> "
   ]
  },
  {
   "cell_type": "code",
   "execution_count": null,
   "id": "fa34dba9-216c-41da-b508-b645c07e0473",
   "metadata": {},
   "outputs": [],
   "source": [
    "#creating the function\n",
    "def articles_info(eids):\n",
    "    arts = []\n",
    "    for eid in eids:\n",
    "        #applying pybliometrics\n",
    "        arts.append(AbstractRetrieval(eid, view='FULL'))\n",
    "    return arts"
   ]
  },
  {
   "cell_type": "code",
   "execution_count": null,
   "id": "939c8f66-b3c6-44e2-a29f-3d40e17d7156",
   "metadata": {},
   "outputs": [],
   "source": [
    "#extracting all the eid's and scopus id's\n",
    "eids = df[\"EID\"].tolist()\n",
    "#calling the function, make sure to have your API key running\n",
    "articles = articles_info(eids)"
   ]
  },
  {
   "cell_type": "code",
   "execution_count": null,
   "id": "4d670d55-ceb3-4441-a7d4-cc596a029984",
   "metadata": {},
   "outputs": [],
   "source": [
    "#creating dictionary\n",
    "authors = {\n",
    "            'article_eid': [],\n",
    "            'author_id': [],\n",
    "            'author_name': [],\n",
    "            'affiliation_country': [],\n",
    "            'position in article': []\n",
    "            }\n",
    "#iterating over each element in the articles list\n",
    "for article in articles:\n",
    "    #iterating over each element in authorgroup\n",
    "    for i in range(len(article.authorgroup)):\n",
    "        authors['article_eid'].append(article.eid)\n",
    "        authors['author_id'].append(article.authorgroup[i].auid)\n",
    "        first_name = article.authorgroup[i].given_name\n",
    "        last_name = article.authorgroup[i].surname\n",
    "        authors['author_name'].append(f'{first_name} {last_name}')\n",
    "        authors['affiliation_country'].append(article.authorgroup[i].country)\n",
    "        authors['position in article'].append(str(i+1))\n",
    "\n",
    "authors_df = pd.DataFrame(authors)"
   ]
  },
  {
   "cell_type": "code",
   "execution_count": null,
   "id": "6e1a7613-223c-41e9-8b12-0b71081240c7",
   "metadata": {},
   "outputs": [],
   "source": [
    "authors_df.loc[authors_df[\"position in article\"]==\"1\",]"
   ]
  }
 ],
 "metadata": {
  "kernelspec": {
   "display_name": "general",
   "language": "python",
   "name": "general"
  },
  "language_info": {
   "codemirror_mode": {
    "name": "ipython",
    "version": 3
   },
   "file_extension": ".py",
   "mimetype": "text/x-python",
   "name": "python",
   "nbconvert_exporter": "python",
   "pygments_lexer": "ipython3",
   "version": "3.12.2"
  }
 },
 "nbformat": 4,
 "nbformat_minor": 5
}
