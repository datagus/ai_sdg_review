{
 "cells": [
  {
   "cell_type": "code",
   "execution_count": null,
   "id": "50f1d5c1-56d2-4771-9242-6363513b6963",
   "metadata": {},
   "outputs": [],
   "source": [
    "import pandas as pd\n",
    "import json\n",
    "import warnings\n",
    "import datetime\n",
    "import os\n",
    "from sqlalchemy import create_engine, inspect"
   ]
  },
  {
   "cell_type": "code",
   "execution_count": null,
   "id": "aab2544f-a67d-45fb-8fcf-794a101ab660",
   "metadata": {},
   "outputs": [],
   "source": [
    "import os\n",
    "print(os.getcwd())"
   ]
  },
  {
   "cell_type": "code",
   "execution_count": null,
   "id": "377e0faa-f00c-42b4-aba8-b02538226d73",
   "metadata": {},
   "outputs": [],
   "source": [
    "## Load configuration from json file\n",
    "con_file = open(\"config.json\")\n",
    "config = json.load(con_file)\n",
    "con_file.close()"
   ]
  },
  {
   "cell_type": "code",
   "execution_count": null,
   "id": "6ae6eb9e-5c79-49c5-9361-8803ea1a8ba4",
   "metadata": {},
   "outputs": [],
   "source": [
    "schema = config[\"schema\"]\n",
    "host = config[\"host\"]\n",
    "user = config[\"user\"]\n",
    "password = config[\"password\"]\n",
    "port = config[\"port\"]\n",
    "\n",
    "connection_string = f'mysql+pymysql://{user}:{password}@{host}:{port}/{schema}'\n",
    "connection_string"
   ]
  },
  {
   "cell_type": "code",
   "execution_count": null,
   "id": "08097b71-950b-41f7-bc74-6bba53b45256",
   "metadata": {},
   "outputs": [],
   "source": [
    "# Create an engine\n",
    "engine = create_engine(connection_string)\n",
    "# Use an inspector to get a list of all table names\n",
    "inspector = inspect(engine)\n",
    "tables = inspector.get_table_names()"
   ]
  },
  {
   "cell_type": "code",
   "execution_count": null,
   "id": "7f4a38f6-e034-4209-8960-a105882c37af",
   "metadata": {},
   "outputs": [],
   "source": [
    "# Import each table into a dictionary of DataFrames\n",
    "dataframes = {}\n",
    "for table in tables:\n",
    "    dataframes[table] = pd.read_sql_table(table, engine)\n",
    "    #here you can put the code to write the dataframes to either csv or excel files\n",
    "    #directory = \"/Users/user/data-science/general/review_ai_sdg/database/excel_tables/\"\n",
    "    dataframes[table].to_excel(f\"{directory}{table}.xlsx\", index=False)"
   ]
  },
  {
   "cell_type": "markdown",
   "id": "efcec493-b738-4d73-9122-7fce9dd96a2c",
   "metadata": {},
   "source": [
    "### Alternative"
   ]
  },
  {
   "cell_type": "code",
   "execution_count": null,
   "id": "1c7f8cb3-d46f-495c-8a93-8f8cb79b5775",
   "metadata": {},
   "outputs": [],
   "source": [
    "articles_df = pd.read_sql(\"articles\", con=connection_string)"
   ]
  },
  {
   "cell_type": "code",
   "execution_count": null,
   "id": "47d1b408-d40a-4ab1-9e86-4f719920ade3",
   "metadata": {},
   "outputs": [],
   "source": [
    "articles_df.info()"
   ]
  },
  {
   "cell_type": "code",
   "execution_count": null,
   "id": "1a8c2286-d83a-43a3-96e0-7653da342cd0",
   "metadata": {},
   "outputs": [],
   "source": [
    "empiricalw_df = pd.read_sql(\"clusters\", con=connection_string)\n",
    "revconw_df = pd.read_sql(\"clusters_revcon\", con=connection_string)\n",
    "words_df = pd.concat([empiricalw_df, revconw_df], ignore_index=True)"
   ]
  },
  {
   "cell_type": "code",
   "execution_count": null,
   "id": "df2924f7-f589-4636-ad89-b80037f8cf72",
   "metadata": {},
   "outputs": [],
   "source": [
    "words_df.info()"
   ]
  },
  {
   "cell_type": "code",
   "execution_count": null,
   "id": "938a002d-4973-435c-b0af-581f8506254c",
   "metadata": {},
   "outputs": [],
   "source": [
    "articles_df.info()"
   ]
  },
  {
   "cell_type": "code",
   "execution_count": null,
   "id": "5f739b47-7c64-4185-960e-826e50797f30",
   "metadata": {},
   "outputs": [],
   "source": [
    "merged_df = pd.merge(articles_df, words_df, on='eid', how='left')\n",
    "merged_df.info()"
   ]
  },
  {
   "cell_type": "code",
   "execution_count": null,
   "id": "3c841e99-cd15-410f-86b8-b5c973026f0d",
   "metadata": {},
   "outputs": [],
   "source": [
    "article_type_df = pd.read_sql(\"type_of_article\", con=connection_string)\n",
    "merged2_df = pd.merge(merged_df, article_type_df, on='eid', how='left')\n",
    "merged2_df.info()"
   ]
  },
  {
   "cell_type": "code",
   "execution_count": null,
   "id": "43fdb9ed-8b8e-4b57-b33c-a6459e886d11",
   "metadata": {},
   "outputs": [],
   "source": [
    "df = merged2_df.drop(columns=[\"article_file\"])\n",
    "columna = df.pop(\"article_type\")\n",
    "df.insert(8, \"article_type\", columna)"
   ]
  },
  {
   "cell_type": "code",
   "execution_count": null,
   "id": "c1e6f315-b62b-41fc-bbb6-b806754b7872",
   "metadata": {},
   "outputs": [],
   "source": [
    "df['words'] = df['words'].fillna(\"excluded_from_word_analysis\")\n",
    "df['cluster_number'] = df['cluster_number'].fillna(\"excluded_from_word_analysis\")\n",
    "df['cluster_name'] = df['cluster_name'].fillna(\"excluded_from_word_analysis\")"
   ]
  },
  {
   "cell_type": "code",
   "execution_count": null,
   "id": "52672647-31fd-4be2-b692-c54c78cdd4a9",
   "metadata": {},
   "outputs": [],
   "source": [
    "df.info()"
   ]
  },
  {
   "cell_type": "code",
   "execution_count": null,
   "id": "9a2f3a62-6025-4c01-9572-324070f8e7b4",
   "metadata": {},
   "outputs": [],
   "source": [
    "df.to_excel(\"minimum_database.xlsx\", index=False)"
   ]
  },
  {
   "cell_type": "code",
   "execution_count": null,
   "id": "30584f6c-53df-46f6-96fc-0349dae4f911",
   "metadata": {},
   "outputs": [],
   "source": [
    "revconw_df.to_excel(\"clusters_revcon.xlsx\", index=False)"
   ]
  }
 ],
 "metadata": {
  "kernelspec": {
   "display_name": "general",
   "language": "python",
   "name": "general"
  },
  "language_info": {
   "codemirror_mode": {
    "name": "ipython",
    "version": 3
   },
   "file_extension": ".py",
   "mimetype": "text/x-python",
   "name": "python",
   "nbconvert_exporter": "python",
   "pygments_lexer": "ipython3",
   "version": "3.12.2"
  }
 },
 "nbformat": 4,
 "nbformat_minor": 5
}
